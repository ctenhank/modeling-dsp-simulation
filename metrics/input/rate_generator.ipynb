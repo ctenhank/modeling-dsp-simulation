{
 "cells": [
  {
   "cell_type": "code",
   "execution_count": 1,
   "metadata": {},
   "outputs": [],
   "source": [
    "import numpy as np\n",
    "import matplotlib.pyplot as plt\n",
    "from scipy.special import beta, gamma"
   ]
  },
  {
   "cell_type": "code",
   "execution_count": 2,
   "metadata": {},
   "outputs": [],
   "source": [
    "\n",
    "#def get_random_input_rate_distribution(alpha=0.5, beta=1, min=100, max=10000, mean=500, step=90):\n",
    "def get_random_input_rate_distribution(a=.5, b=.5, step=100):\n",
    "    #beta = alpha * (max-min) / (mean - min) - alpha\n",
    "    x = np.linspace(0.01, 1.0, step)\n",
    "    y = (1.0 / beta(a, b)) * x ** (a - 1.0) * (1.0 - x) ** (b - 1.0)\n",
    "    max_, min_ = y.max(), y.min()\n",
    "    y = (y - min_) / (max_ - min_)\n",
    "    return x, y\n",
    "    "
   ]
  },
  {
   "cell_type": "code",
   "execution_count": 3,
   "metadata": {},
   "outputs": [
    {
     "data": {
      "text/plain": [
       "[<matplotlib.lines.Line2D at 0x7fd9d478a9a0>]"
      ]
     },
     "execution_count": 3,
     "metadata": {},
     "output_type": "execute_result"
    },
    {
     "data": {
      "image/png": "[encoded data removed]",
      "text/plain": [
       "<Figure size 432x288 with 1 Axes>"
      ]
     },
     "metadata": {
      "needs_background": "light"
     },
     "output_type": "display_data"
    }
   ],
   "source": [
    "x, y = get_random_input_rate_distribution(20, 2)\n",
    "x *= 100\n",
    "y *= 10000\n",
    "y = y.astype(np.int32)\n",
    "plt.plot(x, y)"
   ]
  },
  {
   "cell_type": "code",
   "execution_count": 4,
   "metadata": {},
   "outputs": [
    {
     "data": {
      "text/plain": [
       "array([    0,     0,     0,     0,     0,     0,     0,     0,     0,\n",
       "           0,     0,     0,     0,     0,     0,     0,     0,     0,\n",
       "           0,     0,     0,     0,     0,     0,     0,     0,     0,\n",
       "           0,     0,     0,     0,     0,     0,     0,     0,     0,\n",
       "           0,     0,     0,     0,     0,     0,     0,     0,     0,\n",
       "           0,     0,     0,     0,     0,     0,     1,     1,     2,\n",
       "           2,     3,     5,     7,     9,    12,    17,    22,    30,\n",
       "          39,    51,    67,    86,   111,   142,   181,   229,   288,\n",
       "         362,   451,   560,   691,   849,  1038,  1263,  1527,  1837,\n",
       "        2197,  2613,  3088,  3625,  4225,  4887,  5605,  6369,  7159,\n",
       "        7948,  8696,  9344,  9814, 10000,  9761,  8913,  7221,  4378,\n",
       "           0], dtype=int32)"
      ]
     },
     "execution_count": 4,
     "metadata": {},
     "output_type": "execute_result"
    }
   ],
   "source": [
    "y"
   ]
  },
  {
   "cell_type": "code",
   "execution_count": 5,
   "metadata": {},
   "outputs": [
    {
     "data": {
      "text/plain": [
       "[<matplotlib.lines.Line2D at 0x7fd9d2693a90>]"
      ]
     },
     "execution_count": 5,
     "metadata": {},
     "output_type": "execute_result"
    },
    {
     "data": {
      "image/png": "[encoded data removed]",
      "text/plain": [
       "<Figure size 432x288 with 1 Axes>"
      ]
     },
     "metadata": {
      "needs_background": "light"
     },
     "output_type": "display_data"
    }
   ],
   "source": [
    "plt.plot(x, y)"
   ]
  },
  {
   "cell_type": "code",
   "execution_count": 6,
   "metadata": {},
   "outputs": [],
   "source": [
    "def transform(y):\n",
    "    ret = []\n",
    "    temp = []\n",
    "    for y_ in y:\n",
    "        if y_ < 0.1:\n",
    "            y_ = abs(np.random.normal(0.1, 0.01))\n",
    "            temp.append(y_)\n",
    "        if y_ > 0.8:\n",
    "            for _ in range(5):\n",
    "                ret.append(np.random.normal(1, 0.01))\n",
    "        ret.append(y_)\n",
    "    ret += temp[:int(len(temp)/2)]\n",
    "    return ret"
   ]
  },
  {
   "cell_type": "code",
   "execution_count": 7,
   "metadata": {},
   "outputs": [
    {
     "data": {
      "text/plain": [
       "(array([1233.,   11.,    9.,    7.,    6.,    6.,    7.,    6.,    9.,\n",
       "         133.]),\n",
       " array([0.06529472, 0.16116694, 0.25703915, 0.35291136, 0.44878358,\n",
       "        0.54465579, 0.64052801, 0.73640022, 0.83227243, 0.92814465,\n",
       "        1.02401686]),\n",
       " <BarContainer object of 10 artists>)"
      ]
     },
     "execution_count": 7,
     "metadata": {},
     "output_type": "execute_result"
    },
    {
     "data": {
      "image/png": "[encoded data removed]",
      "text/plain": [
       "<Figure size 432x288 with 1 Axes>"
      ]
     },
     "metadata": {
      "needs_background": "light"
     },
     "output_type": "display_data"
    }
   ],
   "source": [
    "x, y = get_random_input_rate_distribution(50, 2, 900)\n",
    "y = transform(y)\n",
    "#plt.plot(y)\n",
    "plt.hist(y)"
   ]
  },
  {
   "cell_type": "code",
   "execution_count": 8,
   "metadata": {},
   "outputs": [
    {
     "ename": "ImportError",
     "evalue": "cannot import name 'uniform_gen' from 'scipy.stats' (/home/ctenhank/project/thesis/metrics/venv/lib/python3.8/site-packages/scipy/stats/__init__.py)",
     "output_type": "error",
     "traceback": [
      "\u001b[0;31m---------------------------------------------------------------------------\u001b[0m",
      "\u001b[0;31mImportError\u001b[0m                               Traceback (most recent call last)",
      "\u001b[1;32m/home/ctenhank/project/thesis/metrics/metrics/input/rate_generator.ipynb Cell 8'\u001b[0m in \u001b[0;36m<cell line: 1>\u001b[0;34m()\u001b[0m\n\u001b[0;32m----> <a href='vscode-notebook-cell://ssh-remote%2Bsdesk/home/ctenhank/project/thesis/metrics/metrics/input/rate_generator.ipynb#ch0000007vscode-remote?line=0'>1</a>\u001b[0m \u001b[39mfrom\u001b[39;00m \u001b[39mscipy\u001b[39;00m\u001b[39m.\u001b[39;00m\u001b[39mstats\u001b[39;00m \u001b[39mimport\u001b[39;00m uniform_gen\n",
      "\u001b[0;31mImportError\u001b[0m: cannot import name 'uniform_gen' from 'scipy.stats' (/home/ctenhank/project/thesis/metrics/venv/lib/python3.8/site-packages/scipy/stats/__init__.py)"
     ]
    }
   ],
   "source": [
    "from scipy.stats import uniform_gen"
   ]
  },
  {
   "cell_type": "code",
   "execution_count": null,
   "metadata": {},
   "outputs": [
    {
     "data": {
      "text/plain": [
       "[0.1154932955552352,\n",
       " 0.10184869107066345,\n",
       " 0.09530850186629705,\n",
       " 0.08846658348298764,\n",
       " 0.0876519774188144,\n",
       " 0.10191196812349329,\n",
       " 0.10454940733269705,\n",
       " 0.08436398821972184,\n",
       " 0.10287987045199397,\n",
       " 0.11516623135004135,\n",
       " 0.08739975541287755,\n",
       " 0.11396211550978225,\n",
       " 0.10364985610859308,\n",
       " 0.11024655502153867,\n",
       " 0.11117966083147879,\n",
       " 0.0799782463506844,\n",
       " 0.09991397154777228,\n",
       " 0.10294781091460517,\n",
       " 0.09313774388581135,\n",
       " 0.11272801171907235,\n",
       " 0.10133762986052577,\n",
       " 0.1000938583348547,\n",
       " 0.09742581459920828,\n",
       " 0.0823264198371213,\n",
       " 0.11103453339840696,\n",
       " 0.1072212104723375,\n",
       " 0.0974944904731544,\n",
       " 0.09303230057435513,\n",
       " 0.112086316430896,\n",
       " 0.10463160169702877,\n",
       " 0.10953078874838404,\n",
       " 0.09294730773747867,\n",
       " 0.09001730521961325,\n",
       " 0.11869192944154178,\n",
       " 0.0924820608278074,\n",
       " 0.08080446615327191,\n",
       " 0.11453323961130195,\n",
       " 0.1177873060134311,\n",
       " 0.10424721231067056,\n",
       " 0.1015186020536388,\n",
       " 0.10170208099506477,\n",
       " 0.10778474287190903,\n",
       " 0.0956753858310806,\n",
       " 0.09056176950497181,\n",
       " 0.0930291456206865,\n",
       " 0.17503589081079096,\n",
       " 0.38095653859047723,\n",
       " 0.9919930446702524,\n",
       " 1.0004169016794906,\n",
       " 1.0148115889633431,\n",
       " 0.977588205987891,\n",
       " 0.996146525970209,\n",
       " 0.7204851232603321,\n",
       " 0.9908088206045292,\n",
       " 0.9826602660358098,\n",
       " 1.0051109368245759,\n",
       " 0.992247563801521,\n",
       " 0.9914511361092732,\n",
       " 1.0,\n",
       " 0.11663913776391227,\n",
       " 0.1154932955552352,\n",
       " 0.10184869107066345,\n",
       " 0.09530850186629705,\n",
       " 0.08846658348298764,\n",
       " 0.0876519774188144,\n",
       " 0.10191196812349329,\n",
       " 0.10454940733269705,\n",
       " 0.08436398821972184,\n",
       " 0.10287987045199397,\n",
       " 0.11516623135004135,\n",
       " 0.08739975541287755,\n",
       " 0.11396211550978225,\n",
       " 0.10364985610859308,\n",
       " 0.11024655502153867,\n",
       " 0.11117966083147879,\n",
       " 0.0799782463506844,\n",
       " 0.09991397154777228,\n",
       " 0.10294781091460517,\n",
       " 0.09313774388581135,\n",
       " 0.11272801171907235,\n",
       " 0.10133762986052577,\n",
       " 0.1000938583348547,\n",
       " 0.09742581459920828,\n",
       " 0.0823264198371213,\n",
       " 0.11103453339840696,\n",
       " 0.1072212104723375,\n",
       " 0.0974944904731544,\n",
       " 0.09303230057435513,\n",
       " 0.112086316430896,\n",
       " 0.10463160169702877,\n",
       " 0.10953078874838404,\n",
       " 0.09294730773747867,\n",
       " 0.09001730521961325,\n",
       " 0.11869192944154178,\n",
       " 0.0924820608278074,\n",
       " 0.08080446615327191,\n",
       " 0.11453323961130195,\n",
       " 0.1177873060134311,\n",
       " 0.10424721231067056,\n",
       " 0.1015186020536388,\n",
       " 0.10170208099506477,\n",
       " 0.10778474287190903,\n",
       " 0.0956753858310806,\n",
       " 0.09056176950497181,\n",
       " 0.0930291456206865,\n",
       " 0.11663913776391227]"
      ]
     },
     "execution_count": 122,
     "metadata": {},
     "output_type": "execute_result"
    }
   ],
   "source": [
    "y"
   ]
  },
  {
   "cell_type": "code",
   "execution_count": null,
   "metadata": {},
   "outputs": [],
   "source": [
    "t=np.random.normal(0.1, 0.05, 100)"
   ]
  },
  {
   "cell_type": "code",
   "execution_count": null,
   "metadata": {},
   "outputs": [
    {
     "data": {
      "text/plain": [
       "array([ 0.11469989,  0.20861096,  0.14543843,  0.18123549,  0.09227912,\n",
       "        0.11275348,  0.0956891 ,  0.01622166,  0.13589753,  0.09848853,\n",
       "        0.0810861 ,  0.09533273,  0.09976602,  0.07268703,  0.14425102,\n",
       "        0.01556286,  0.12501838,  0.08714717,  0.09271413,  0.12236332,\n",
       "        0.0847998 ,  0.08136058,  0.23742163,  0.10791821,  0.13134432,\n",
       "        0.02616487,  0.04566261,  0.06753684,  0.13443668,  0.16578755,\n",
       "        0.05914796,  0.03526144,  0.04179973,  0.09095939,  0.03993114,\n",
       "        0.06738251,  0.09140446,  0.16566067,  0.04537888,  0.18382629,\n",
       "        0.12428229,  0.08824149,  0.14506921,  0.15164496,  0.04236153,\n",
       "        0.06858209, -0.06239528,  0.10697167,  0.14331429,  0.20998659,\n",
       "        0.05283758,  0.10305448,  0.09574857,  0.14252805,  0.13436166,\n",
       "        0.1398066 ,  0.08369915,  0.16408121,  0.17082945,  0.06861068,\n",
       "        0.02770573,  0.13588564, -0.01304174,  0.08761672,  0.06376575,\n",
       "        0.06723044,  0.17204246,  0.10985389,  0.12101242,  0.14237623,\n",
       "        0.01770392, -0.00868031,  0.12842646,  0.03783336,  0.08906853,\n",
       "        0.12876608,  0.14630308,  0.05383182,  0.19105369,  0.07233053,\n",
       "        0.11479383,  0.19386818,  0.09031107,  0.11096793,  0.13154139,\n",
       "        0.11030046,  0.19000035, -0.02220405,  0.05661029,  0.01178151,\n",
       "        0.08984122,  0.03900746,  0.04020187,  0.15193639, -0.02552018,\n",
       "        0.13095299,  0.06583266,  0.07370596,  0.08811216,  0.0859329 ])"
      ]
     },
     "execution_count": 81,
     "metadata": {},
     "output_type": "execute_result"
    }
   ],
   "source": [
    "t"
   ]
  },
  {
   "cell_type": "code",
   "execution_count": null,
   "metadata": {},
   "outputs": [],
   "source": [
    "def mk_input(dist):\n",
    "    ret = []\n",
    "    for e in dist:\n",
    "        if e <= 250:\n",
    "            ret.append(e + 100)\n",
    "        else:\n",
    "            ret.append(e)\n",
    "        #    ret.append(100)\n",
    "        #elif e < 10000:\n",
    "        #    ret.append(e)\n",
    "        #else:\n",
    "        #    ret.append(int((5000 / e) * e))\n",
    "    return ret"
   ]
  },
  {
   "cell_type": "code",
   "execution_count": null,
   "metadata": {},
   "outputs": [],
   "source": [
    "y2 = mk_input(y)"
   ]
  },
  {
   "cell_type": "code",
   "execution_count": null,
   "metadata": {},
   "outputs": [
    {
     "data": {
      "text/plain": [
       "[<matplotlib.lines.Line2D at 0x7efe02f59f10>]"
      ]
     },
     "execution_count": 129,
     "metadata": {},
     "output_type": "execute_result"
    },
    {
     "data": {
      "image/png": "[encoded data removed]",
      "text/plain": [
       "<Figure size 432x288 with 1 Axes>"
      ]
     },
     "metadata": {
      "needs_background": "light"
     },
     "output_type": "display_data"
    }
   ],
   "source": [
    "plt.plot(x,y2)"
   ]
  },
  {
   "cell_type": "code",
   "execution_count": null,
   "metadata": {},
   "outputs": [
    {
     "data": {
      "text/plain": [
       "[100,\n",
       " 100,\n",
       " 100,\n",
       " 100,\n",
       " 100,\n",
       " 100,\n",
       " 100,\n",
       " 100,\n",
       " 100,\n",
       " 100,\n",
       " 100,\n",
       " 100,\n",
       " 100,\n",
       " 100,\n",
       " 100,\n",
       " 100,\n",
       " 100,\n",
       " 100,\n",
       " 100,\n",
       " 100,\n",
       " 100,\n",
       " 100,\n",
       " 100,\n",
       " 100,\n",
       " 100,\n",
       " 100,\n",
       " 100,\n",
       " 100,\n",
       " 100,\n",
       " 100,\n",
       " 100,\n",
       " 100,\n",
       " 101,\n",
       " 101,\n",
       " 101,\n",
       " 102,\n",
       " 103,\n",
       " 104,\n",
       " 106,\n",
       " 107,\n",
       " 110,\n",
       " 113,\n",
       " 116,\n",
       " 120,\n",
       " 126,\n",
       " 132,\n",
       " 140,\n",
       " 150,\n",
       " 162,\n",
       " 176,\n",
       " 193,\n",
       " 212,\n",
       " 236,\n",
       " 263,\n",
       " 296,\n",
       " 333,\n",
       " 277,\n",
       " 328,\n",
       " 386,\n",
       " 453,\n",
       " 530,\n",
       " 618,\n",
       " 718,\n",
       " 830,\n",
       " 957,\n",
       " 1100,\n",
       " 1260,\n",
       " 1438,\n",
       " 1636,\n",
       " 1855,\n",
       " 2096,\n",
       " 2360,\n",
       " 2649,\n",
       " 2963,\n",
       " 3302,\n",
       " 3667,\n",
       " 4058,\n",
       " 4474,\n",
       " 4913,\n",
       " 5373,\n",
       " 5852,\n",
       " 6345,\n",
       " 6847,\n",
       " 7352,\n",
       " 7851,\n",
       " 8334,\n",
       " 8788,\n",
       " 9198,\n",
       " 9548,\n",
       " 9815,\n",
       " 9975,\n",
       " 10000,\n",
       " 9854,\n",
       " 9501,\n",
       " 8895,\n",
       " 7985,\n",
       " 6712,\n",
       " 5009,\n",
       " 2800,\n",
       " 100]"
      ]
     },
     "execution_count": 130,
     "metadata": {},
     "output_type": "execute_result"
    }
   ],
   "source": [
    "y2"
   ]
  },
  {
   "cell_type": "code",
   "execution_count": null,
   "metadata": {},
   "outputs": [],
   "source": [
    "with open('rate', 'w') as f:\n",
    "    for t in y2:\n",
    "        f.write(str(t) +' ')\n",
    "    "
   ]
  },
  {
   "cell_type": "code",
   "execution_count": 18,
   "metadata": {},
   "outputs": [
    {
     "data": {
      "text/plain": [
       "(array([ 7.,  9., 11.,  3.,  0.,  0.,  0.,  0.,  2., 12.]),\n",
       " array([0.01800589, 0.11545604, 0.21290619, 0.31035633, 0.40780648,\n",
       "        0.50525663, 0.60270677, 0.70015692, 0.79760707, 0.89505721,\n",
       "        0.99250736]),\n",
       " <BarContainer object of 10 artists>)"
      ]
     },
     "execution_count": 18,
     "metadata": {},
     "output_type": "execute_result"
    },
    {
     "data": {
      "image/png": "[encoded data removed]",
      "text/plain": [
       "<Figure size 432x288 with 1 Axes>"
      ]
     },
     "metadata": {
      "needs_background": "light"
     },
     "output_type": "display_data"
    }
   ],
   "source": [
    "import numpy as np\n",
    "import matplotlib.pyplot as plt\n",
    "\n",
    "step=30\n",
    "mu, sigma = 0.2, 0.1\n",
    "mu2, sigma2 = 1, 0.1\n",
    "X1 = abs(np.random.normal(mu, sigma, step))\n",
    "X2 = abs(np.random.normal(mu2, sigma2, step))\n",
    "X = np.concatenate([X1, X2])\n",
    "ret = []\n",
    "for x in X:\n",
    "    if x <= 1.0 :\n",
    "        ret.append(x)\n",
    "        \n",
    "plt.hist(ret)"
   ]
  },
  {
   "cell_type": "code",
   "execution_count": 10,
   "metadata": {},
   "outputs": [
    {
     "data": {
      "text/plain": [
       "(array([5., 0., 3., 3., 4., 3., 4., 3., 3., 2.]),\n",
       " array([0.02698857, 0.06227948, 0.09757039, 0.13286129, 0.1681522 ,\n",
       "        0.20344311, 0.23873402, 0.27402492, 0.30931583, 0.34460674,\n",
       "        0.37989764]),\n",
       " <BarContainer object of 10 artists>)"
      ]
     },
     "execution_count": 10,
     "metadata": {},
     "output_type": "execute_result"
    },
    {
     "data": {
      "image/png": "[encoded data removed]",
      "text/plain": [
       "<Figure size 432x288 with 1 Axes>"
      ]
     },
     "metadata": {
      "needs_background": "light"
     },
     "output_type": "display_data"
    }
   ],
   "source": [
    "#X1 = np.random.normal(mu, sigma, step)\n",
    "plt.hist(X1)"
   ]
  },
  {
   "cell_type": "code",
   "execution_count": null,
   "metadata": {},
   "outputs": [
    {
     "data": {
      "image/png": "[encoded data removed]",
      "text/plain": [
       "<Figure size 432x288 with 1 Axes>"
      ]
     },
     "metadata": {
      "needs_background": "light"
     },
     "output_type": "display_data"
    },
    {
     "data": {
      "image/png": "[encoded data removed]",
      "text/plain": [
       "<Figure size 432x288 with 1 Axes>"
      ]
     },
     "metadata": {
      "needs_background": "light"
     },
     "output_type": "display_data"
    }
   ],
   "source": [
    "ux = np.random.uniform(1000, 10000, 10000)\n",
    "plt.hist(ux)\n",
    "plt.show()\n",
    "plt.plot(ux)\n",
    "plt.show()"
   ]
  },
  {
   "cell_type": "code",
   "execution_count": null,
   "metadata": {},
   "outputs": [],
   "source": [
    "def get_value(mu, sigma):\n",
    "    ret = np.random.normal(mu, sigma)\n",
    "    while ret < .0 or ret > 1.0:\n",
    "        ret = np.random.normal(mu, sigma)\n",
    "    return ret\n",
    "\n",
    "def binomal_distribution(seconds=900):\n",
    "    mu, sigma = 0.2, 0.1\n",
    "    mu2, sigma2 = 1, 0.1\n",
    "    x1_range = int(seconds/5)\n",
    "    x2_range = seconds - x1_range\n",
    "    X1 = [get_value(mu, sigma) for _ in range(int(seconds/2))]\n",
    "    X2 = [get_value(mu2, sigma2) for _ in range(int(seconds/2))]\n",
    "    #X2 = abs(np.random.normal(mu2, sigma2, seconds))\n",
    "    X = np.concatenate([X1, X2])\n",
    "    return [x for x in X if x <= 1.0]      "
   ]
  },
  {
   "cell_type": "code",
   "execution_count": null,
   "metadata": {},
   "outputs": [
    {
     "name": "stdout",
     "output_type": "stream",
     "text": [
      "900\n"
     ]
    },
    {
     "data": {
      "text/plain": [
       "(array([298., 128.,  22.,   2.,   0.,   0.,   2.,  17., 128., 303.]),\n",
       " array([9.18090698e-05, 1.00071204e-01, 2.00050599e-01, 3.00029994e-01,\n",
       "        4.00009389e-01, 4.99988784e-01, 5.99968179e-01, 6.99947574e-01,\n",
       "        7.99926969e-01, 8.99906364e-01, 9.99885759e-01]),\n",
       " <BarContainer object of 10 artists>)"
      ]
     },
     "execution_count": 153,
     "metadata": {},
     "output_type": "execute_result"
    },
    {
     "data": {
      "image/png": "[encoded data removed]",
      "text/plain": [
       "<Figure size 432x288 with 1 Axes>"
      ]
     },
     "metadata": {
      "needs_background": "light"
     },
     "output_type": "display_data"
    }
   ],
   "source": [
    "x = binomal_distribution(900)\n",
    "print(len(x))\n",
    "plt.hist(x)"
   ]
  }
 ],
 "metadata": {
  "interpreter": {
   "hash": "0f2675686c5bec85686d5908158e4e7cd7b47b2fefab5bb44078323f93555063"
  },
  "kernelspec": {
   "display_name": "Python 3.8.10 ('venv': venv)",
   "language": "python",
   "name": "python3"
  },
  "language_info": {
   "codemirror_mode": {
    "name": "ipython",
    "version": 3
   },
   "file_extension": ".py",
   "mimetype": "text/x-python",
   "name": "python",
   "nbconvert_exporter": "python",
   "pygments_lexer": "ipython3",
   "version": "3.8.10"
  },
  "orig_nbformat": 4
 },
 "nbformat": 4,
 "nbformat_minor": 2
}
